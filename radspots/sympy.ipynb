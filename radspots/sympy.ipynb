{
 "cells": [
  {
   "cell_type": "code",
   "execution_count": 1,
   "metadata": {},
   "outputs": [
    {
     "name": "stdout",
     "output_type": "stream",
     "text": [
      "IPython console for SymPy 0.7.6.1 (Python 3.5.4-64-bit) (ground types: python)\n"
     ]
    }
   ],
   "source": [
    "import sympy\n",
    "\n",
    "from sympy import symbols, init_session, sqrt\n",
    "init_session(quiet=True)"
   ]
  },
  {
   "cell_type": "code",
   "execution_count": 2,
   "metadata": {},
   "outputs": [],
   "source": [
    "tau0, p0, b, P, a, Gamma, delta, sigma, sigma_tau_0 = symbols('tau0 p0 b P a Gamma delta sigma, sigma_tau_0', \n",
    "                                                              positive=True, real=True) "
   ]
  },
  {
   "cell_type": "code",
   "execution_count": 3,
   "metadata": {},
   "outputs": [],
   "source": [
    "T = 2 * tau0 * sqrt(1 - b**2)\n",
    "tau = 2 * tau0 * p0 / sqrt(1 - b**2)\n",
    "theta = tau/T\n",
    "Q = sqrt(Gamma * T) * delta/sigma\n",
    "sigma_tau = T * sqrt(6 * theta) / Q\n",
    "sigma_T = T * sqrt(2 * theta) / Q"
   ]
  },
  {
   "cell_type": "markdown",
   "metadata": {},
   "source": [
    "$$ p_0 = \\frac{\\tau T}{4 \\tau_0^2}$$ "
   ]
  },
  {
   "cell_type": "markdown",
   "metadata": {},
   "source": [
    "$$ \\sigma_{p_0}^2 = \\left(\\frac{\\partial p_0}{\\partial \\tau}\\right)^2 \\sigma_\\tau^2 + \\left(\\frac{\\partial p_0}{\\partial \\tau}\\frac{\\partial p_0}{\\partial T}\\right) \\mathrm{cov}(\\tau,T)+\\left(\\frac{\\partial p_0}{\\partial T}\\right)^2 \\sigma_T^2 +\\left(\\frac{\\partial p_0}{\\partial \\tau_0}\\right)^2 \\sigma_{\\tau_0}^2 $$\n",
    "\n",
    "\n",
    "$$ \\sigma_{p_0}^2 = \\left(\\frac{T  \\sigma_\\tau}{4  \\tau_0^2} \\right)^2 + \n",
    "               \\left(\\frac{\\tau  T }{16 \\tau_0^4} b  \\theta^2 T^2\\right) + \n",
    "               \\left(\\frac{\\tau  \\sigma_T}{4 \\tau_0^2} \\right)^2 + \n",
    "               \\left(\\frac{\\tau  T }{2 \\tau_0^3}  \\sigma_{\\tau_0}\\right)^2 $$\n"
   ]
  },
  {
   "cell_type": "code",
   "execution_count": 4,
   "metadata": {},
   "outputs": [],
   "source": [
    "sigma_p0_sq = ((T * sigma_tau / 4 / tau0**2)**2 + \n",
    "               (tau * T / 16 / tau0**4) * b * theta**2 * T**2 + \n",
    "               (tau * sigma_T / 4 / tau0**2)**2 + \n",
    "               (tau * T / 2 / tau0**3 * sigma_tau_0)**2)"
   ]
  },
  {
   "cell_type": "code",
   "execution_count": 5,
   "metadata": {},
   "outputs": [
    {
     "data": {
      "image/png": "[encoded data removed]",
      "text/latex": [
       "$$\\frac{\\sqrt{p_{0}}}{\\sqrt{\\Gamma} \\delta \\tau_{0}} \\sqrt{- \\frac{1}{\\left(- b^{2} + 1\\right)^{\\frac{5}{2}}} \\left(- \\Gamma b \\delta^{2} p_{0}^{2} \\tau_{0}^{2} \\left(- b^{2} + 1\\right)^{\\frac{3}{2}} - 4 \\Gamma \\delta^{2} p_{0} \\sigma_{\\tau 0}^{2} \\left(- b^{2} + 1\\right)^{\\frac{5}{2}} + p_{0}^{2} \\sigma^{2} \\tau_{0} \\left(b^{2} - 1\\right) - 3 \\sigma^{2} \\tau_{0} \\left(- b^{2} + 1\\right)^{3}\\right)}$$"
      ],
      "text/plain": [
       "               _______________________________________________________________\n",
       "              ╱  ⎛                           3/2                              \n",
       "             ╱   ⎜       2   2   2 ⎛   2    ⎞           2         2 ⎛   2    ⎞\n",
       "  ____      ╱   -⎝- Γ⋅b⋅δ ⋅p₀ ⋅τ₀ ⋅⎝- b  + 1⎠    - 4⋅Γ⋅δ ⋅p₀⋅σ_τ_0 ⋅⎝- b  + 1⎠\n",
       "╲╱ p₀ ⋅    ╱    ──────────────────────────────────────────────────────────────\n",
       "          ╱                                                               5/2 \n",
       "         ╱                                                      ⎛   2    ⎞    \n",
       "       ╲╱                                                       ⎝- b  + 1⎠    \n",
       "──────────────────────────────────────────────────────────────────────────────\n",
       "                                                             ___              \n",
       "                                                           ╲╱ Γ ⋅δ⋅τ₀         \n",
       "\n",
       "_________________________________________________\n",
       "5/2                                          3⎞  \n",
       "        2  2    ⎛ 2    ⎞      2    ⎛   2    ⎞ ⎟  \n",
       "    + p₀ ⋅σ ⋅τ₀⋅⎝b  - 1⎠ - 3⋅σ ⋅τ₀⋅⎝- b  + 1⎠ ⎠  \n",
       "──────────────────────────────────────────────── \n",
       "                                                 \n",
       "                                                 \n",
       "                                                 \n",
       "─────────────────────────────────────────────────\n",
       "                                                 \n",
       "                                                 "
      ]
     },
     "execution_count": 5,
     "metadata": {},
     "output_type": "execute_result"
    }
   ],
   "source": [
    "sqrt(sigma_p0_sq).simplify()"
   ]
  },
  {
   "cell_type": "code",
   "execution_count": 6,
   "metadata": {},
   "outputs": [
    {
     "name": "stdout",
     "output_type": "stream",
     "text": [
      "sqrt(p0)*sqrt(-(-Gamma*b*delta**2*p0**2*tau0**2*(-b**2 + 1)**(3/2) - 4*Gamma*delta**2*p0*sigma_tau_0**2*(-b**2 + 1)**(5/2) + p0**2*sigma**2*tau0*(b**2 - 1) - 3*sigma**2*tau0*(-b**2 + 1)**3)/(-b**2 + 1)**(5/2))/(sqrt(Gamma)*delta*tau0)\n"
     ]
    }
   ],
   "source": [
    "print(sqrt(sigma_p0_sq).simplify())"
   ]
  },
  {
   "cell_type": "code",
   "execution_count": null,
   "metadata": {},
   "outputs": [],
   "source": []
  }
 ],
 "metadata": {
  "kernelspec": {
   "display_name": "Python 3",
   "language": "python",
   "name": "python3"
  },
  "language_info": {
   "codemirror_mode": {
    "name": "ipython",
    "version": 3
   },
   "file_extension": ".py",
   "mimetype": "text/x-python",
   "name": "python",
   "nbconvert_exporter": "python",
   "pygments_lexer": "ipython3",
   "version": "3.5.4"
  }
 },
 "nbformat": 4,
 "nbformat_minor": 2
}
