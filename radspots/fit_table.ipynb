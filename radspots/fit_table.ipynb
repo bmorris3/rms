{
 "cells": [
  {
   "cell_type": "code",
   "execution_count": 2,
   "metadata": {},
   "outputs": [],
   "source": [
    "%matplotlib inline\n",
    "\n",
    "import matplotlib.pyplot as plt\n",
    "import numpy as np\n",
    "from astropy.io import ascii\n",
    "from astropy.table import Table"
   ]
  },
  {
   "cell_type": "code",
   "execution_count": 30,
   "metadata": {},
   "outputs": [],
   "source": [
    "paths = ['tres2_samples.txt', 'hat7_samples.txt', 'hat11_samples.txt', \n",
    "         'gj1214_samples.txt', 'hd80606_samples.txt', 'k2trappist1/trappist1b_samples.txt',\n",
    "        'k2trappist1/trappist1c_samples.txt', 'k2trappist1/trappist1d_samples.txt']\n",
    "\n",
    "targets = ['TrES-2', 'HAT-P-7', 'HAT-P-11', 'GJ 1214', 'HD 80606', \n",
    "           'T-1 b', 'T-1 c', 'T-1 d']\n",
    "\n",
    "rows = []\n",
    "for target, path in zip(targets, paths): \n",
    "    row = [target]\n",
    "    p0, p1, q1, q2, f0 = np.loadtxt(path, unpack=True)\n",
    "    \n",
    "    l, p0_mid, u = np.percentile(p0, [16, 50, 84])\n",
    "    row.append([p0_mid, p0_mid-l, u-p0_mid])\n",
    "    \n",
    "    l, p1_mid, u = np.percentile(p1, [16, 50, 84])\n",
    "    row.append([p1_mid, p1_mid-l, u-p1_mid])\n",
    "    \n",
    "    l, q1_mid, u = np.percentile(q1, [16, 50, 84])\n",
    "    row.append([q1_mid, q1_mid-l, u-q1_mid])\n",
    "    \n",
    "    l, q2_mid, u = np.percentile(q2, [16, 50, 84])\n",
    "    row.append([q2_mid, q2_mid-l, u-q2_mid])\n",
    "    \n",
    "    rows.append(row)"
   ]
  },
  {
   "cell_type": "code",
   "execution_count": 31,
   "metadata": {},
   "outputs": [
    {
     "name": "stdout",
     "output_type": "stream",
     "text": [
      "[['TrES-2', '${0.12549}_{-0.00021}^{+0.00021}$', '${0.12438}_{-0.00053}^{+0.00052}$', '${0.37969}_{-0.00195}^{+0.00213}$', '${0.20257}_{-0.06690}^{+0.06430}$'], ['HAT-P-7', '${0.07773}_{-0.00011}^{+0.00009}$', '${0.07751}_{-0.00001}^{+0.00001}$', '${0.27104}_{-0.00080}^{+0.00095}$', '${0.34060}_{-0.00257}^{+0.00225}$'], ['HAT-P-11', '${0.05802}_{-0.00036}^{+0.00034}$', '${0.05863}_{-0.00002}^{+0.00002}$', '${0.47152}_{-0.00300}^{+0.00315}$', '${0.46885}_{-0.00572}^{+0.00552}$'], ['GJ 1214', '${0.13914}_{-0.01293}^{+0.01306}$', '${0.11025}_{-0.00078}^{+0.00080}$', '${0.02119}_{-0.01352}^{+0.02456}$', '${0.38515}_{-0.28004}^{+0.38563}$'], ['HD 80606', '${0.10291}_{-0.00148}^{+0.00152}$', '${0.09990}_{-0.00026}^{+0.00037}$', '${0.02802}_{-0.00645}^{+0.00733}$', '${0.16260}_{-0.12021}^{+0.22815}$'], ['T-1 b', '${0.09989}_{-0.00887}^{+0.00976}$', '${0.08578}_{-0.00039}^{+0.00040}$', '${0.55875}_{-0.08323}^{+0.09229}$', '${0.53150}_{-0.08482}^{+0.09798}$'], ['T-1 c', '${0.10310}_{-0.00841}^{+0.00711}$', '${0.08881}_{-0.00047}^{+0.00046}$', '${0.29176}_{-0.04634}^{+0.07249}$', '${0.80173}_{-0.16010}^{+0.12592}$'], ['T-1 d', '${0.21520}_{-0.04201}^{+0.03368}$', '${0.06206}_{-0.00106}^{+0.00103}$', '${0.32795}_{-0.17083}^{+0.23201}$', '${0.09917}_{-0.07500}^{+0.17982}$']]\n"
     ]
    }
   ],
   "source": [
    "formatted_rows = []\n",
    "for row in rows:\n",
    "    formatted_row = []\n",
    "    formatted_row.append(row[0])\n",
    "    for parameter in row[1::]: \n",
    "        formatted_row.append(\"${{{0:.5f}}}_{{-{1:.5f}}}^{{+{2:.5f}}}$\".format(*parameter))\n",
    "    formatted_rows.append(formatted_row)\n",
    "print(formatted_rows)"
   ]
  },
  {
   "cell_type": "code",
   "execution_count": 32,
   "metadata": {},
   "outputs": [],
   "source": [
    "table = Table(rows=formatted_rows, names=['Target', '$p_0$', '$p_1$', '$q_1$', '$q_2$'])"
   ]
  },
  {
   "cell_type": "code",
   "execution_count": 33,
   "metadata": {},
   "outputs": [
    {
     "name": "stdout",
     "output_type": "stream",
     "text": [
      "\\begin{table}\n",
      "\\begin{tabular}{ccccc}\n",
      "Target & $p_0$ & $p_1$ & $q_1$ & $q_2$ \\\\\n",
      "TrES-2 & ${0.12549}_{-0.00021}^{+0.00021}$ & ${0.12438}_{-0.00053}^{+0.00052}$ & ${0.37969}_{-0.00195}^{+0.00213}$ & ${0.20257}_{-0.06690}^{+0.06430}$ \\\\\n",
      "HAT-P-7 & ${0.07773}_{-0.00011}^{+0.00009}$ & ${0.07751}_{-0.00001}^{+0.00001}$ & ${0.27104}_{-0.00080}^{+0.00095}$ & ${0.34060}_{-0.00257}^{+0.00225}$ \\\\\n",
      "HAT-P-11 & ${0.05802}_{-0.00036}^{+0.00034}$ & ${0.05863}_{-0.00002}^{+0.00002}$ & ${0.47152}_{-0.00300}^{+0.00315}$ & ${0.46885}_{-0.00572}^{+0.00552}$ \\\\\n",
      "GJ 1214 & ${0.13914}_{-0.01293}^{+0.01306}$ & ${0.11025}_{-0.00078}^{+0.00080}$ & ${0.02119}_{-0.01352}^{+0.02456}$ & ${0.38515}_{-0.28004}^{+0.38563}$ \\\\\n",
      "HD 80606 & ${0.10291}_{-0.00148}^{+0.00152}$ & ${0.09990}_{-0.00026}^{+0.00037}$ & ${0.02802}_{-0.00645}^{+0.00733}$ & ${0.16260}_{-0.12021}^{+0.22815}$ \\\\\n",
      "T-1 b & ${0.09989}_{-0.00887}^{+0.00976}$ & ${0.08578}_{-0.00039}^{+0.00040}$ & ${0.55875}_{-0.08323}^{+0.09229}$ & ${0.53150}_{-0.08482}^{+0.09798}$ \\\\\n",
      "T-1 c & ${0.10310}_{-0.00841}^{+0.00711}$ & ${0.08881}_{-0.00047}^{+0.00046}$ & ${0.29176}_{-0.04634}^{+0.07249}$ & ${0.80173}_{-0.16010}^{+0.12592}$ \\\\\n",
      "T-1 d & ${0.21520}_{-0.04201}^{+0.03368}$ & ${0.06206}_{-0.00106}^{+0.00103}$ & ${0.32795}_{-0.17083}^{+0.23201}$ & ${0.09917}_{-0.07500}^{+0.17982}$ \\\\\n",
      "\\end{tabular}\n",
      "\\end{table}\n"
     ]
    }
   ],
   "source": [
    "ascii.write(table, format='latex')"
   ]
  },
  {
   "cell_type": "code",
   "execution_count": null,
   "metadata": {},
   "outputs": [],
   "source": []
  }
 ],
 "metadata": {
  "kernelspec": {
   "display_name": "Python 3",
   "language": "python",
   "name": "python3"
  },
  "language_info": {
   "codemirror_mode": {
    "name": "ipython",
    "version": 3
   },
   "file_extension": ".py",
   "mimetype": "text/x-python",
   "name": "python",
   "nbconvert_exporter": "python",
   "pygments_lexer": "ipython3",
   "version": "3.5.4"
  }
 },
 "nbformat": 4,
 "nbformat_minor": 2
}
